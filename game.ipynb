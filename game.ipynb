{
 "cells": [
  {
   "cell_type": "code",
   "execution_count": 1,
   "id": "bb97a229-d3ad-4fdd-9ad7-6784bc07d0b2",
   "metadata": {},
   "outputs": [],
   "source": [
    "import numpy as np\n",
    "import pandas as pd\n",
    "import datetime as dt"
   ]
  },
  {
   "cell_type": "code",
   "execution_count": 2,
   "id": "b71b5044-0d90-4d6e-a42e-21d7b4361ed0",
   "metadata": {},
   "outputs": [],
   "source": [
    "df_gameplayed = pd.read_csv('User Gameplayed Data.csv')\n",
    "df_deposite = pd.read_csv('Deposite Data.csv')\n",
    "df_withdraw = pd.read_csv('Withdrawal Data.csv')"
   ]
  },
  {
   "cell_type": "code",
   "execution_count": 3,
   "id": "dad33a51-1af6-4250-a946-e18493b14921",
   "metadata": {},
   "outputs": [
    {
     "data": {
      "text/html": [
       "<div>\n",
       "<style scoped>\n",
       "    .dataframe tbody tr th:only-of-type {\n",
       "        vertical-align: middle;\n",
       "    }\n",
       "\n",
       "    .dataframe tbody tr th {\n",
       "        vertical-align: top;\n",
       "    }\n",
       "\n",
       "    .dataframe thead th {\n",
       "        text-align: right;\n",
       "    }\n",
       "</style>\n",
       "<table border=\"1\" class=\"dataframe\">\n",
       "  <thead>\n",
       "    <tr style=\"text-align: right;\">\n",
       "      <th></th>\n",
       "      <th>User ID</th>\n",
       "      <th>Games Played</th>\n",
       "      <th>Datetime</th>\n",
       "    </tr>\n",
       "  </thead>\n",
       "  <tbody>\n",
       "    <tr>\n",
       "      <th>0</th>\n",
       "      <td>851</td>\n",
       "      <td>1</td>\n",
       "      <td>1/10/2022 0:00</td>\n",
       "    </tr>\n",
       "    <tr>\n",
       "      <th>1</th>\n",
       "      <td>717</td>\n",
       "      <td>1</td>\n",
       "      <td>1/10/2022 0:00</td>\n",
       "    </tr>\n",
       "    <tr>\n",
       "      <th>2</th>\n",
       "      <td>456</td>\n",
       "      <td>1</td>\n",
       "      <td>1/10/2022 0:00</td>\n",
       "    </tr>\n",
       "    <tr>\n",
       "      <th>3</th>\n",
       "      <td>424</td>\n",
       "      <td>1</td>\n",
       "      <td>1/10/2022 0:00</td>\n",
       "    </tr>\n",
       "    <tr>\n",
       "      <th>4</th>\n",
       "      <td>845</td>\n",
       "      <td>1</td>\n",
       "      <td>1/10/2022 0:00</td>\n",
       "    </tr>\n",
       "  </tbody>\n",
       "</table>\n",
       "</div>"
      ],
      "text/plain": [
       "   User ID  Games Played        Datetime\n",
       "0      851             1  1/10/2022 0:00\n",
       "1      717             1  1/10/2022 0:00\n",
       "2      456             1  1/10/2022 0:00\n",
       "3      424             1  1/10/2022 0:00\n",
       "4      845             1  1/10/2022 0:00"
      ]
     },
     "execution_count": 3,
     "metadata": {},
     "output_type": "execute_result"
    }
   ],
   "source": [
    "df_gameplayed.head()"
   ]
  },
  {
   "cell_type": "code",
   "execution_count": 4,
   "id": "9399566f-1ef4-46ee-8f5b-950e394d4f11",
   "metadata": {},
   "outputs": [
    {
     "data": {
      "text/plain": [
       "(355266, 3)"
      ]
     },
     "execution_count": 4,
     "metadata": {},
     "output_type": "execute_result"
    }
   ],
   "source": [
    "df_gameplayed.shape"
   ]
  },
  {
   "cell_type": "code",
   "execution_count": 5,
   "id": "57fad643-9bab-4409-b285-b60d26b91564",
   "metadata": {},
   "outputs": [
    {
     "data": {
      "text/html": [
       "<div>\n",
       "<style scoped>\n",
       "    .dataframe tbody tr th:only-of-type {\n",
       "        vertical-align: middle;\n",
       "    }\n",
       "\n",
       "    .dataframe tbody tr th {\n",
       "        vertical-align: top;\n",
       "    }\n",
       "\n",
       "    .dataframe thead th {\n",
       "        text-align: right;\n",
       "    }\n",
       "</style>\n",
       "<table border=\"1\" class=\"dataframe\">\n",
       "  <thead>\n",
       "    <tr style=\"text-align: right;\">\n",
       "      <th></th>\n",
       "      <th>User Id</th>\n",
       "      <th>Datetime</th>\n",
       "      <th>Amount</th>\n",
       "    </tr>\n",
       "  </thead>\n",
       "  <tbody>\n",
       "    <tr>\n",
       "      <th>0</th>\n",
       "      <td>357</td>\n",
       "      <td>1/10/2022 0:03</td>\n",
       "      <td>2000</td>\n",
       "    </tr>\n",
       "    <tr>\n",
       "      <th>1</th>\n",
       "      <td>776</td>\n",
       "      <td>1/10/2022 0:03</td>\n",
       "      <td>2500</td>\n",
       "    </tr>\n",
       "    <tr>\n",
       "      <th>2</th>\n",
       "      <td>492</td>\n",
       "      <td>1/10/2022 0:06</td>\n",
       "      <td>5000</td>\n",
       "    </tr>\n",
       "    <tr>\n",
       "      <th>3</th>\n",
       "      <td>803</td>\n",
       "      <td>1/10/2022 0:07</td>\n",
       "      <td>5000</td>\n",
       "    </tr>\n",
       "    <tr>\n",
       "      <th>4</th>\n",
       "      <td>875</td>\n",
       "      <td>1/10/2022 0:09</td>\n",
       "      <td>1500</td>\n",
       "    </tr>\n",
       "  </tbody>\n",
       "</table>\n",
       "</div>"
      ],
      "text/plain": [
       "   User Id        Datetime  Amount\n",
       "0      357  1/10/2022 0:03    2000\n",
       "1      776  1/10/2022 0:03    2500\n",
       "2      492  1/10/2022 0:06    5000\n",
       "3      803  1/10/2022 0:07    5000\n",
       "4      875  1/10/2022 0:09    1500"
      ]
     },
     "execution_count": 5,
     "metadata": {},
     "output_type": "execute_result"
    }
   ],
   "source": [
    "df_deposite.head()"
   ]
  },
  {
   "cell_type": "code",
   "execution_count": 6,
   "id": "8e03bb60-7356-4a20-858b-2c07729c4963",
   "metadata": {},
   "outputs": [
    {
     "data": {
      "text/plain": [
       "(17438, 3)"
      ]
     },
     "execution_count": 6,
     "metadata": {},
     "output_type": "execute_result"
    }
   ],
   "source": [
    "df_deposite.shape"
   ]
  },
  {
   "cell_type": "code",
   "execution_count": 7,
   "id": "a3433fa6-779d-47b0-8ff6-d8770a3f5435",
   "metadata": {},
   "outputs": [
    {
     "data": {
      "text/html": [
       "<div>\n",
       "<style scoped>\n",
       "    .dataframe tbody tr th:only-of-type {\n",
       "        vertical-align: middle;\n",
       "    }\n",
       "\n",
       "    .dataframe tbody tr th {\n",
       "        vertical-align: top;\n",
       "    }\n",
       "\n",
       "    .dataframe thead th {\n",
       "        text-align: right;\n",
       "    }\n",
       "</style>\n",
       "<table border=\"1\" class=\"dataframe\">\n",
       "  <thead>\n",
       "    <tr style=\"text-align: right;\">\n",
       "      <th></th>\n",
       "      <th>User Id</th>\n",
       "      <th>Datetime</th>\n",
       "      <th>Amount</th>\n",
       "    </tr>\n",
       "  </thead>\n",
       "  <tbody>\n",
       "    <tr>\n",
       "      <th>0</th>\n",
       "      <td>190</td>\n",
       "      <td>1/10/2022 0:03</td>\n",
       "      <td>5872</td>\n",
       "    </tr>\n",
       "    <tr>\n",
       "      <th>1</th>\n",
       "      <td>159</td>\n",
       "      <td>1/10/2022 0:16</td>\n",
       "      <td>9540</td>\n",
       "    </tr>\n",
       "    <tr>\n",
       "      <th>2</th>\n",
       "      <td>164</td>\n",
       "      <td>1/10/2022 0:24</td>\n",
       "      <td>815</td>\n",
       "    </tr>\n",
       "    <tr>\n",
       "      <th>3</th>\n",
       "      <td>946</td>\n",
       "      <td>1/10/2022 0:29</td>\n",
       "      <td>23000</td>\n",
       "    </tr>\n",
       "    <tr>\n",
       "      <th>4</th>\n",
       "      <td>763</td>\n",
       "      <td>1/10/2022 0:40</td>\n",
       "      <td>9473</td>\n",
       "    </tr>\n",
       "  </tbody>\n",
       "</table>\n",
       "</div>"
      ],
      "text/plain": [
       "   User Id        Datetime  Amount\n",
       "0      190  1/10/2022 0:03    5872\n",
       "1      159  1/10/2022 0:16    9540\n",
       "2      164  1/10/2022 0:24     815\n",
       "3      946  1/10/2022 0:29   23000\n",
       "4      763  1/10/2022 0:40    9473"
      ]
     },
     "execution_count": 7,
     "metadata": {},
     "output_type": "execute_result"
    }
   ],
   "source": [
    "df_withdraw.head()"
   ]
  },
  {
   "cell_type": "code",
   "execution_count": 8,
   "id": "13464d03-f14f-4594-8d7f-1e0e54e4d80e",
   "metadata": {},
   "outputs": [
    {
     "data": {
      "text/plain": [
       "(3566, 3)"
      ]
     },
     "execution_count": 8,
     "metadata": {},
     "output_type": "execute_result"
    }
   ],
   "source": [
    "df_withdraw.shape"
   ]
  },
  {
   "cell_type": "code",
   "execution_count": 9,
   "id": "d72c8e28-b0a6-416c-8273-8f02c673dbba",
   "metadata": {},
   "outputs": [
    {
     "name": "stdout",
     "output_type": "stream",
     "text": [
      "<class 'pandas.core.frame.DataFrame'>\n",
      "RangeIndex: 355266 entries, 0 to 355265\n",
      "Data columns (total 3 columns):\n",
      " #   Column        Non-Null Count   Dtype \n",
      "---  ------        --------------   ----- \n",
      " 0   User ID       355266 non-null  int64 \n",
      " 1   Games Played  355266 non-null  int64 \n",
      " 2   Datetime      355266 non-null  object\n",
      "dtypes: int64(2), object(1)\n",
      "memory usage: 8.1+ MB\n"
     ]
    }
   ],
   "source": [
    "df_gameplayed.info()"
   ]
  },
  {
   "cell_type": "code",
   "execution_count": 10,
   "id": "ff71936c-fd2c-4872-8367-e5a6c176192c",
   "metadata": {},
   "outputs": [
    {
     "name": "stdout",
     "output_type": "stream",
     "text": [
      "<class 'pandas.core.frame.DataFrame'>\n",
      "RangeIndex: 17438 entries, 0 to 17437\n",
      "Data columns (total 3 columns):\n",
      " #   Column    Non-Null Count  Dtype \n",
      "---  ------    --------------  ----- \n",
      " 0   User Id   17438 non-null  int64 \n",
      " 1   Datetime  17438 non-null  object\n",
      " 2   Amount    17438 non-null  int64 \n",
      "dtypes: int64(2), object(1)\n",
      "memory usage: 408.8+ KB\n"
     ]
    }
   ],
   "source": [
    "df_deposite.info()"
   ]
  },
  {
   "cell_type": "code",
   "execution_count": 11,
   "id": "cf862b34-06e1-4d64-8473-fbd239e4d2ba",
   "metadata": {},
   "outputs": [
    {
     "name": "stdout",
     "output_type": "stream",
     "text": [
      "<class 'pandas.core.frame.DataFrame'>\n",
      "RangeIndex: 3566 entries, 0 to 3565\n",
      "Data columns (total 3 columns):\n",
      " #   Column    Non-Null Count  Dtype \n",
      "---  ------    --------------  ----- \n",
      " 0   User Id   3566 non-null   int64 \n",
      " 1   Datetime  3566 non-null   object\n",
      " 2   Amount    3566 non-null   int64 \n",
      "dtypes: int64(2), object(1)\n",
      "memory usage: 83.7+ KB\n"
     ]
    }
   ],
   "source": [
    "df_withdraw.info()"
   ]
  },
  {
   "cell_type": "code",
   "execution_count": 12,
   "id": "03455642-3db6-4f54-903d-d9c66df6ad65",
   "metadata": {},
   "outputs": [
    {
     "data": {
      "text/plain": [
       "User ID         0\n",
       "Games Played    0\n",
       "Datetime        0\n",
       "dtype: int64"
      ]
     },
     "execution_count": 12,
     "metadata": {},
     "output_type": "execute_result"
    }
   ],
   "source": [
    "df_gameplayed.isnull().sum()"
   ]
  },
  {
   "cell_type": "code",
   "execution_count": 13,
   "id": "04518bc9-9bb2-4c45-a45a-28747179d8a0",
   "metadata": {},
   "outputs": [
    {
     "data": {
      "text/plain": [
       "User Id     0\n",
       "Datetime    0\n",
       "Amount      0\n",
       "dtype: int64"
      ]
     },
     "execution_count": 13,
     "metadata": {},
     "output_type": "execute_result"
    }
   ],
   "source": [
    "df_deposite.isnull().sum()"
   ]
  },
  {
   "cell_type": "code",
   "execution_count": 14,
   "id": "fec85ba1-b6a6-4b48-b51f-9fa6f71eabbe",
   "metadata": {},
   "outputs": [
    {
     "data": {
      "text/plain": [
       "User Id     0\n",
       "Datetime    0\n",
       "Amount      0\n",
       "dtype: int64"
      ]
     },
     "execution_count": 14,
     "metadata": {},
     "output_type": "execute_result"
    }
   ],
   "source": [
    "df_withdraw.isnull().sum()"
   ]
  },
  {
   "cell_type": "code",
   "execution_count": 15,
   "id": "e7a20f50-1597-4e8c-8e37-573a64c0d56b",
   "metadata": {},
   "outputs": [
    {
     "data": {
      "text/plain": [
       "dtype('O')"
      ]
     },
     "execution_count": 15,
     "metadata": {},
     "output_type": "execute_result"
    }
   ],
   "source": [
    "df_gameplayed['Datetime'].dtype"
   ]
  },
  {
   "cell_type": "markdown",
   "id": "867410a3-dada-439d-9030-0eb7e4bd81fe",
   "metadata": {},
   "source": [
    "Convert datetime's object datatype in proper datetime"
   ]
  },
  {
   "cell_type": "code",
   "execution_count": 16,
   "id": "3756b782-6e65-4936-a866-c074a0cbb432",
   "metadata": {},
   "outputs": [],
   "source": [
    "df_gameplayed['Datetime'] = pd.to_datetime(df_gameplayed['Datetime'], dayfirst=True, errors='coerce')"
   ]
  },
  {
   "cell_type": "code",
   "execution_count": 17,
   "id": "5670b880-80a1-4863-a0bb-83859c26a21d",
   "metadata": {},
   "outputs": [
    {
     "data": {
      "text/plain": [
       "dtype('<M8[ns]')"
      ]
     },
     "execution_count": 17,
     "metadata": {},
     "output_type": "execute_result"
    }
   ],
   "source": [
    "df_gameplayed['Datetime'].dtype"
   ]
  },
  {
   "cell_type": "code",
   "execution_count": 18,
   "id": "9c570f7f-01f6-4d8b-8a02-4ef73d564945",
   "metadata": {},
   "outputs": [],
   "source": [
    "df_deposite['Datetime'] = pd.to_datetime(df_deposite['Datetime'], dayfirst=True, errors='coerce')"
   ]
  },
  {
   "cell_type": "code",
   "execution_count": 19,
   "id": "dff5d85b-aefe-4182-9c7a-b7e761b8728b",
   "metadata": {},
   "outputs": [
    {
     "data": {
      "text/plain": [
       "dtype('<M8[ns]')"
      ]
     },
     "execution_count": 19,
     "metadata": {},
     "output_type": "execute_result"
    }
   ],
   "source": [
    "df_deposite['Datetime'].dtype"
   ]
  },
  {
   "cell_type": "code",
   "execution_count": 20,
   "id": "617e7e3a-4ac3-4e52-bb0a-a2d609fb0700",
   "metadata": {},
   "outputs": [],
   "source": [
    "df_withdraw['Datetime'] = pd.to_datetime(df_withdraw['Datetime'], dayfirst=True, errors='coerce')"
   ]
  },
  {
   "cell_type": "code",
   "execution_count": 21,
   "id": "4039e759-84dc-4d26-8acc-cf9b2a8630af",
   "metadata": {},
   "outputs": [
    {
     "data": {
      "text/plain": [
       "dtype('<M8[ns]')"
      ]
     },
     "execution_count": 21,
     "metadata": {},
     "output_type": "execute_result"
    }
   ],
   "source": [
    "df_withdraw['Datetime'].dtype"
   ]
  },
  {
   "cell_type": "markdown",
   "id": "d8230ae9-973d-484e-8d55-fd34ea87e3ec",
   "metadata": {},
   "source": [
    "Extracting hour column to identify  slots s1 and s2"
   ]
  },
  {
   "cell_type": "code",
   "execution_count": 22,
   "id": "d5e95276-8830-4d33-bf94-99b9068a13a4",
   "metadata": {},
   "outputs": [
    {
     "data": {
      "text/html": [
       "<div>\n",
       "<style scoped>\n",
       "    .dataframe tbody tr th:only-of-type {\n",
       "        vertical-align: middle;\n",
       "    }\n",
       "\n",
       "    .dataframe tbody tr th {\n",
       "        vertical-align: top;\n",
       "    }\n",
       "\n",
       "    .dataframe thead th {\n",
       "        text-align: right;\n",
       "    }\n",
       "</style>\n",
       "<table border=\"1\" class=\"dataframe\">\n",
       "  <thead>\n",
       "    <tr style=\"text-align: right;\">\n",
       "      <th></th>\n",
       "      <th>User ID</th>\n",
       "      <th>Games Played</th>\n",
       "      <th>Datetime</th>\n",
       "      <th>Hour</th>\n",
       "    </tr>\n",
       "  </thead>\n",
       "  <tbody>\n",
       "    <tr>\n",
       "      <th>0</th>\n",
       "      <td>851</td>\n",
       "      <td>1</td>\n",
       "      <td>2022-10-01 00:00:00</td>\n",
       "      <td>0.0</td>\n",
       "    </tr>\n",
       "    <tr>\n",
       "      <th>1</th>\n",
       "      <td>717</td>\n",
       "      <td>1</td>\n",
       "      <td>2022-10-01 00:00:00</td>\n",
       "      <td>0.0</td>\n",
       "    </tr>\n",
       "    <tr>\n",
       "      <th>2</th>\n",
       "      <td>456</td>\n",
       "      <td>1</td>\n",
       "      <td>2022-10-01 00:00:00</td>\n",
       "      <td>0.0</td>\n",
       "    </tr>\n",
       "    <tr>\n",
       "      <th>3</th>\n",
       "      <td>424</td>\n",
       "      <td>1</td>\n",
       "      <td>2022-10-01 00:00:00</td>\n",
       "      <td>0.0</td>\n",
       "    </tr>\n",
       "    <tr>\n",
       "      <th>4</th>\n",
       "      <td>845</td>\n",
       "      <td>1</td>\n",
       "      <td>2022-10-01 00:00:00</td>\n",
       "      <td>0.0</td>\n",
       "    </tr>\n",
       "    <tr>\n",
       "      <th>5</th>\n",
       "      <td>15</td>\n",
       "      <td>1</td>\n",
       "      <td>2022-10-01 00:00:00</td>\n",
       "      <td>0.0</td>\n",
       "    </tr>\n",
       "    <tr>\n",
       "      <th>6</th>\n",
       "      <td>738</td>\n",
       "      <td>1</td>\n",
       "      <td>2022-10-01 00:00:00</td>\n",
       "      <td>0.0</td>\n",
       "    </tr>\n",
       "    <tr>\n",
       "      <th>7</th>\n",
       "      <td>748</td>\n",
       "      <td>1</td>\n",
       "      <td>2022-10-01 00:01:00</td>\n",
       "      <td>0.0</td>\n",
       "    </tr>\n",
       "    <tr>\n",
       "      <th>8</th>\n",
       "      <td>582</td>\n",
       "      <td>1</td>\n",
       "      <td>2022-10-01 00:01:00</td>\n",
       "      <td>0.0</td>\n",
       "    </tr>\n",
       "    <tr>\n",
       "      <th>9</th>\n",
       "      <td>39</td>\n",
       "      <td>1</td>\n",
       "      <td>2022-10-01 00:01:00</td>\n",
       "      <td>0.0</td>\n",
       "    </tr>\n",
       "    <tr>\n",
       "      <th>10</th>\n",
       "      <td>564</td>\n",
       "      <td>1</td>\n",
       "      <td>2022-10-01 00:01:00</td>\n",
       "      <td>0.0</td>\n",
       "    </tr>\n",
       "    <tr>\n",
       "      <th>11</th>\n",
       "      <td>996</td>\n",
       "      <td>1</td>\n",
       "      <td>2022-10-01 00:01:00</td>\n",
       "      <td>0.0</td>\n",
       "    </tr>\n",
       "    <tr>\n",
       "      <th>12</th>\n",
       "      <td>146</td>\n",
       "      <td>1</td>\n",
       "      <td>2022-10-01 00:02:00</td>\n",
       "      <td>0.0</td>\n",
       "    </tr>\n",
       "    <tr>\n",
       "      <th>13</th>\n",
       "      <td>458</td>\n",
       "      <td>1</td>\n",
       "      <td>2022-10-01 00:02:00</td>\n",
       "      <td>0.0</td>\n",
       "    </tr>\n",
       "    <tr>\n",
       "      <th>14</th>\n",
       "      <td>39</td>\n",
       "      <td>1</td>\n",
       "      <td>2022-10-01 00:02:00</td>\n",
       "      <td>0.0</td>\n",
       "    </tr>\n",
       "    <tr>\n",
       "      <th>15</th>\n",
       "      <td>247</td>\n",
       "      <td>1</td>\n",
       "      <td>2022-10-01 00:02:00</td>\n",
       "      <td>0.0</td>\n",
       "    </tr>\n",
       "    <tr>\n",
       "      <th>16</th>\n",
       "      <td>137</td>\n",
       "      <td>1</td>\n",
       "      <td>2022-10-01 00:02:00</td>\n",
       "      <td>0.0</td>\n",
       "    </tr>\n",
       "    <tr>\n",
       "      <th>17</th>\n",
       "      <td>618</td>\n",
       "      <td>1</td>\n",
       "      <td>2022-10-01 00:02:00</td>\n",
       "      <td>0.0</td>\n",
       "    </tr>\n",
       "    <tr>\n",
       "      <th>18</th>\n",
       "      <td>754</td>\n",
       "      <td>1</td>\n",
       "      <td>2022-10-01 00:02:00</td>\n",
       "      <td>0.0</td>\n",
       "    </tr>\n",
       "    <tr>\n",
       "      <th>19</th>\n",
       "      <td>365</td>\n",
       "      <td>1</td>\n",
       "      <td>2022-10-01 00:02:00</td>\n",
       "      <td>0.0</td>\n",
       "    </tr>\n",
       "  </tbody>\n",
       "</table>\n",
       "</div>"
      ],
      "text/plain": [
       "    User ID  Games Played            Datetime  Hour\n",
       "0       851             1 2022-10-01 00:00:00   0.0\n",
       "1       717             1 2022-10-01 00:00:00   0.0\n",
       "2       456             1 2022-10-01 00:00:00   0.0\n",
       "3       424             1 2022-10-01 00:00:00   0.0\n",
       "4       845             1 2022-10-01 00:00:00   0.0\n",
       "5        15             1 2022-10-01 00:00:00   0.0\n",
       "6       738             1 2022-10-01 00:00:00   0.0\n",
       "7       748             1 2022-10-01 00:01:00   0.0\n",
       "8       582             1 2022-10-01 00:01:00   0.0\n",
       "9        39             1 2022-10-01 00:01:00   0.0\n",
       "10      564             1 2022-10-01 00:01:00   0.0\n",
       "11      996             1 2022-10-01 00:01:00   0.0\n",
       "12      146             1 2022-10-01 00:02:00   0.0\n",
       "13      458             1 2022-10-01 00:02:00   0.0\n",
       "14       39             1 2022-10-01 00:02:00   0.0\n",
       "15      247             1 2022-10-01 00:02:00   0.0\n",
       "16      137             1 2022-10-01 00:02:00   0.0\n",
       "17      618             1 2022-10-01 00:02:00   0.0\n",
       "18      754             1 2022-10-01 00:02:00   0.0\n",
       "19      365             1 2022-10-01 00:02:00   0.0"
      ]
     },
     "execution_count": 22,
     "metadata": {},
     "output_type": "execute_result"
    }
   ],
   "source": [
    "df_gameplayed['Hour'] = df_gameplayed['Datetime'].dt.hour\n",
    "df_gameplayed.head(20)"
   ]
  },
  {
   "cell_type": "code",
   "execution_count": 23,
   "id": "bc013b18-76dd-43d8-892e-722abc304b39",
   "metadata": {},
   "outputs": [
    {
     "data": {
      "text/html": [
       "<div>\n",
       "<style scoped>\n",
       "    .dataframe tbody tr th:only-of-type {\n",
       "        vertical-align: middle;\n",
       "    }\n",
       "\n",
       "    .dataframe tbody tr th {\n",
       "        vertical-align: top;\n",
       "    }\n",
       "\n",
       "    .dataframe thead th {\n",
       "        text-align: right;\n",
       "    }\n",
       "</style>\n",
       "<table border=\"1\" class=\"dataframe\">\n",
       "  <thead>\n",
       "    <tr style=\"text-align: right;\">\n",
       "      <th></th>\n",
       "      <th>User Id</th>\n",
       "      <th>Datetime</th>\n",
       "      <th>Amount</th>\n",
       "      <th>Hour</th>\n",
       "    </tr>\n",
       "  </thead>\n",
       "  <tbody>\n",
       "    <tr>\n",
       "      <th>0</th>\n",
       "      <td>357</td>\n",
       "      <td>2022-10-01 00:03:00</td>\n",
       "      <td>2000</td>\n",
       "      <td>0.0</td>\n",
       "    </tr>\n",
       "    <tr>\n",
       "      <th>1</th>\n",
       "      <td>776</td>\n",
       "      <td>2022-10-01 00:03:00</td>\n",
       "      <td>2500</td>\n",
       "      <td>0.0</td>\n",
       "    </tr>\n",
       "    <tr>\n",
       "      <th>2</th>\n",
       "      <td>492</td>\n",
       "      <td>2022-10-01 00:06:00</td>\n",
       "      <td>5000</td>\n",
       "      <td>0.0</td>\n",
       "    </tr>\n",
       "    <tr>\n",
       "      <th>3</th>\n",
       "      <td>803</td>\n",
       "      <td>2022-10-01 00:07:00</td>\n",
       "      <td>5000</td>\n",
       "      <td>0.0</td>\n",
       "    </tr>\n",
       "    <tr>\n",
       "      <th>4</th>\n",
       "      <td>875</td>\n",
       "      <td>2022-10-01 00:09:00</td>\n",
       "      <td>1500</td>\n",
       "      <td>0.0</td>\n",
       "    </tr>\n",
       "  </tbody>\n",
       "</table>\n",
       "</div>"
      ],
      "text/plain": [
       "   User Id            Datetime  Amount  Hour\n",
       "0      357 2022-10-01 00:03:00    2000   0.0\n",
       "1      776 2022-10-01 00:03:00    2500   0.0\n",
       "2      492 2022-10-01 00:06:00    5000   0.0\n",
       "3      803 2022-10-01 00:07:00    5000   0.0\n",
       "4      875 2022-10-01 00:09:00    1500   0.0"
      ]
     },
     "execution_count": 23,
     "metadata": {},
     "output_type": "execute_result"
    }
   ],
   "source": [
    "df_deposite['Hour'] = df_deposite['Datetime'].dt.hour\n",
    "df_deposite.head()"
   ]
  },
  {
   "cell_type": "code",
   "execution_count": 24,
   "id": "73945897-ad56-4a9d-bab6-2005a9927536",
   "metadata": {},
   "outputs": [
    {
     "data": {
      "text/html": [
       "<div>\n",
       "<style scoped>\n",
       "    .dataframe tbody tr th:only-of-type {\n",
       "        vertical-align: middle;\n",
       "    }\n",
       "\n",
       "    .dataframe tbody tr th {\n",
       "        vertical-align: top;\n",
       "    }\n",
       "\n",
       "    .dataframe thead th {\n",
       "        text-align: right;\n",
       "    }\n",
       "</style>\n",
       "<table border=\"1\" class=\"dataframe\">\n",
       "  <thead>\n",
       "    <tr style=\"text-align: right;\">\n",
       "      <th></th>\n",
       "      <th>User Id</th>\n",
       "      <th>Datetime</th>\n",
       "      <th>Amount</th>\n",
       "      <th>Hour</th>\n",
       "    </tr>\n",
       "  </thead>\n",
       "  <tbody>\n",
       "    <tr>\n",
       "      <th>0</th>\n",
       "      <td>190</td>\n",
       "      <td>2022-10-01 00:03:00</td>\n",
       "      <td>5872</td>\n",
       "      <td>0.0</td>\n",
       "    </tr>\n",
       "    <tr>\n",
       "      <th>1</th>\n",
       "      <td>159</td>\n",
       "      <td>2022-10-01 00:16:00</td>\n",
       "      <td>9540</td>\n",
       "      <td>0.0</td>\n",
       "    </tr>\n",
       "    <tr>\n",
       "      <th>2</th>\n",
       "      <td>164</td>\n",
       "      <td>2022-10-01 00:24:00</td>\n",
       "      <td>815</td>\n",
       "      <td>0.0</td>\n",
       "    </tr>\n",
       "    <tr>\n",
       "      <th>3</th>\n",
       "      <td>946</td>\n",
       "      <td>2022-10-01 00:29:00</td>\n",
       "      <td>23000</td>\n",
       "      <td>0.0</td>\n",
       "    </tr>\n",
       "    <tr>\n",
       "      <th>4</th>\n",
       "      <td>763</td>\n",
       "      <td>2022-10-01 00:40:00</td>\n",
       "      <td>9473</td>\n",
       "      <td>0.0</td>\n",
       "    </tr>\n",
       "    <tr>\n",
       "      <th>...</th>\n",
       "      <td>...</td>\n",
       "      <td>...</td>\n",
       "      <td>...</td>\n",
       "      <td>...</td>\n",
       "    </tr>\n",
       "    <tr>\n",
       "      <th>85</th>\n",
       "      <td>2</td>\n",
       "      <td>2022-10-01 18:03:00</td>\n",
       "      <td>55000</td>\n",
       "      <td>18.0</td>\n",
       "    </tr>\n",
       "    <tr>\n",
       "      <th>86</th>\n",
       "      <td>471</td>\n",
       "      <td>2022-10-01 18:05:00</td>\n",
       "      <td>250</td>\n",
       "      <td>18.0</td>\n",
       "    </tr>\n",
       "    <tr>\n",
       "      <th>87</th>\n",
       "      <td>246</td>\n",
       "      <td>2022-10-01 18:14:00</td>\n",
       "      <td>5000</td>\n",
       "      <td>18.0</td>\n",
       "    </tr>\n",
       "    <tr>\n",
       "      <th>88</th>\n",
       "      <td>380</td>\n",
       "      <td>2022-10-01 18:15:00</td>\n",
       "      <td>7000</td>\n",
       "      <td>18.0</td>\n",
       "    </tr>\n",
       "    <tr>\n",
       "      <th>89</th>\n",
       "      <td>972</td>\n",
       "      <td>2022-10-01 18:17:00</td>\n",
       "      <td>3500</td>\n",
       "      <td>18.0</td>\n",
       "    </tr>\n",
       "  </tbody>\n",
       "</table>\n",
       "<p>90 rows × 4 columns</p>\n",
       "</div>"
      ],
      "text/plain": [
       "    User Id            Datetime  Amount  Hour\n",
       "0       190 2022-10-01 00:03:00    5872   0.0\n",
       "1       159 2022-10-01 00:16:00    9540   0.0\n",
       "2       164 2022-10-01 00:24:00     815   0.0\n",
       "3       946 2022-10-01 00:29:00   23000   0.0\n",
       "4       763 2022-10-01 00:40:00    9473   0.0\n",
       "..      ...                 ...     ...   ...\n",
       "85        2 2022-10-01 18:03:00   55000  18.0\n",
       "86      471 2022-10-01 18:05:00     250  18.0\n",
       "87      246 2022-10-01 18:14:00    5000  18.0\n",
       "88      380 2022-10-01 18:15:00    7000  18.0\n",
       "89      972 2022-10-01 18:17:00    3500  18.0\n",
       "\n",
       "[90 rows x 4 columns]"
      ]
     },
     "execution_count": 24,
     "metadata": {},
     "output_type": "execute_result"
    }
   ],
   "source": [
    "df_withdraw['Hour'] = df_withdraw['Datetime'].dt.hour\n",
    "df_withdraw.head(90)"
   ]
  },
  {
   "cell_type": "markdown",
   "id": "4c9e04a7-74e7-4925-ae6d-2913d87d1ded",
   "metadata": {},
   "source": [
    "Assign S1 slot for 12am to 12pm and S2 for 12pm to 12am"
   ]
  },
  {
   "cell_type": "code",
   "execution_count": 25,
   "id": "68dba23d-ebe4-4157-8ee4-491f7bd1d00f",
   "metadata": {},
   "outputs": [],
   "source": [
    "df_gameplayed['Slot'] = df_gameplayed['Hour'].apply(lambda x: 'S1' if x<12 else 'S2')"
   ]
  },
  {
   "cell_type": "code",
   "execution_count": 26,
   "id": "b516472f-c4b4-46ac-b455-90d2ce22dcbd",
   "metadata": {},
   "outputs": [],
   "source": [
    "df_deposite['Slot'] = df_deposite['Hour'].apply(lambda x:'S1' if x<12 else 'S2')"
   ]
  },
  {
   "cell_type": "code",
   "execution_count": 27,
   "id": "6bff17aa-796a-4826-ac12-63acdcb4c35d",
   "metadata": {},
   "outputs": [],
   "source": [
    "df_withdraw['Slot'] = df_withdraw['Hour'].apply(lambda x: 'S1' if x<12 else 'S2')"
   ]
  },
  {
   "cell_type": "code",
   "execution_count": null,
   "id": "960110ba-ba0d-4903-8ec9-c08a997d7e30",
   "metadata": {},
   "outputs": [],
   "source": []
  },
  {
   "cell_type": "markdown",
   "id": "6f86fae2-537f-48b7-af27-9e8b70ea42b3",
   "metadata": {},
   "source": [
    "Now, to find playerwise loyalty points extract the date from each set and filter it slotwise"
   ]
  },
  {
   "cell_type": "code",
   "execution_count": 28,
   "id": "5f1010fc-32d0-4745-9506-1008c50e487b",
   "metadata": {},
   "outputs": [],
   "source": [
    "df_gameplayed['Date'] = df_gameplayed['Datetime'].dt.date\n",
    "df_deposite['Date'] = df_deposite['Datetime'].dt.date\n",
    "df_withdraw['Date'] = df_withdraw['Datetime'].dt.date"
   ]
  },
  {
   "cell_type": "markdown",
   "id": "2fb6cdef-0d88-47de-b2d2-561dc0e6875e",
   "metadata": {},
   "source": [
    "1. Find Playerwise Loyalty points earned by Players in the following slots:-\n",
    "    a. 2nd October Slot S1\n",
    "    b. 16th October Slot S2\n",
    "    b. 18th October Slot S1\n",
    "    b. 26th October Slot S2"
   ]
  },
  {
   "cell_type": "code",
   "execution_count": 29,
   "id": "87aa4c30-eabb-402b-9795-772c3644198f",
   "metadata": {},
   "outputs": [],
   "source": [
    "gameplayed_2oct_s1 = df_gameplayed[(df_gameplayed['Date'] == dt.date(2022, 10, 2)) & (df_gameplayed['Slot'] == 'S1')]\n",
    "gamepalyed_16oct_s2 = df_gameplayed[(df_gameplayed['Date'] == dt.date(2022,10,16)) & (df_gameplayed['Slot']=='S2')]\n",
    "gameplayed_18oct_s1 = df_gameplayed[(df_gameplayed['Date'] == dt.date(2022,10,18)) & (df_gameplayed['Slot']=='S1')]\n",
    "gameplayed_26oct_s2 = df_gameplayed[(df_gameplayed['Date'] == dt.date(2022,10,26)) & (df_gameplayed['Slot']=='S2')]"
   ]
  },
  {
   "cell_type": "code",
   "execution_count": 30,
   "id": "df16063f-f75f-4a5a-9207-967c694bd7f2",
   "metadata": {},
   "outputs": [],
   "source": [
    "deposite_2oct_s1 = df_deposite[(df_deposite['Date'] == dt.date(2022,10,2)) & (df_deposite['Slot']=='S1')]\n",
    "deposite_16oct_s2 = df_deposite[(df_deposite['Date']==dt.date(2022,10,16)) & (df_deposite['Slot']=='S2')]\n",
    "deposite_18oct_s1 = df_deposite[(df_deposite['Date']== dt.date(2022,10,18)) & (df_deposite['Slot']=='S1')]\n",
    "deposite_26oct_s2 = df_deposite[(df_deposite['Date']== dt.date(2022,10,26)) & (df_deposite['Slot']=='S2')]"
   ]
  },
  {
   "cell_type": "code",
   "execution_count": 31,
   "id": "967adb3c-afde-4625-b219-07dae712dbba",
   "metadata": {},
   "outputs": [],
   "source": [
    "withdraw_2oct_s1 = df_withdraw[(df_withdraw['Date']==dt.date(2022,10,2)) & (df_withdraw['Slot']=='S1')]\n",
    "withdraw_16oct_s2 = df_withdraw[(df_withdraw['Date']==dt.date(2022,10,16)) & (df_withdraw['Slot']=='S2')]\n",
    "withdraw_18oct_s1 = df_withdraw[(df_withdraw['Date'] == dt.date(2022,10,18)) & (df_withdraw['Slot']=='S1')]\n",
    "withdraw_26oct_s2 = df_withdraw[(df_withdraw['Date'] == dt.date(2022,10,26)) & (df_withdraw['Slot']=='S2')]"
   ]
  },
  {
   "cell_type": "code",
   "execution_count": 32,
   "id": "5e29e964-8392-4dd0-8c0c-d4279f371c0d",
   "metadata": {},
   "outputs": [],
   "source": [
    "df_gameplayed.rename(columns={'User ID':'User Id'}, inplace=True)"
   ]
  },
  {
   "cell_type": "code",
   "execution_count": 33,
   "id": "f159e8f4-5b3d-4f17-9851-96e9435f6d2f",
   "metadata": {},
   "outputs": [
    {
     "data": {
      "text/plain": [
       "Index(['User Id', 'Games Played', 'Datetime', 'Hour', 'Slot', 'Date'], dtype='object')"
      ]
     },
     "execution_count": 33,
     "metadata": {},
     "output_type": "execute_result"
    }
   ],
   "source": [
    "df_gameplayed.columns"
   ]
  },
  {
   "cell_type": "markdown",
   "id": "2d6eb9c3-af56-48f0-9f48-bc65cab33ee3",
   "metadata": {},
   "source": [
    "Group each dataframe by slot, date and userId"
   ]
  },
  {
   "cell_type": "code",
   "execution_count": 34,
   "id": "138e7a41-1165-466f-a863-5590062d7f26",
   "metadata": {},
   "outputs": [],
   "source": [
    "gameplayed_grouped = df_gameplayed.groupby(['User Id', 'Date', 'Slot'])['Games Played'].sum().reset_index()"
   ]
  },
  {
   "cell_type": "code",
   "execution_count": 35,
   "id": "bfac7a83-1220-4484-80ff-b1dddef87ef4",
   "metadata": {},
   "outputs": [],
   "source": [
    "deposite_grouped = df_deposite.groupby(['User Id','Date','Slot'])['Amount'].agg(['sum','count']).reset_index()"
   ]
  },
  {
   "cell_type": "code",
   "execution_count": 36,
   "id": "2b6024b4-e3d0-4ed1-9a17-7b805fa41b5f",
   "metadata": {},
   "outputs": [],
   "source": [
    "deposite_grouped.columns = ['User Id','Date','Slot','Deposite Amount','Num Deposite']"
   ]
  },
  {
   "cell_type": "code",
   "execution_count": 37,
   "id": "2098b09d-1b21-42d5-8183-46014db25074",
   "metadata": {},
   "outputs": [
    {
     "data": {
      "text/html": [
       "<div>\n",
       "<style scoped>\n",
       "    .dataframe tbody tr th:only-of-type {\n",
       "        vertical-align: middle;\n",
       "    }\n",
       "\n",
       "    .dataframe tbody tr th {\n",
       "        vertical-align: top;\n",
       "    }\n",
       "\n",
       "    .dataframe thead th {\n",
       "        text-align: right;\n",
       "    }\n",
       "</style>\n",
       "<table border=\"1\" class=\"dataframe\">\n",
       "  <thead>\n",
       "    <tr style=\"text-align: right;\">\n",
       "      <th></th>\n",
       "      <th>User Id</th>\n",
       "      <th>Date</th>\n",
       "      <th>Slot</th>\n",
       "      <th>Deposite Amount</th>\n",
       "      <th>Num Deposite</th>\n",
       "    </tr>\n",
       "  </thead>\n",
       "  <tbody>\n",
       "    <tr>\n",
       "      <th>0</th>\n",
       "      <td>2</td>\n",
       "      <td>2022-10-01</td>\n",
       "      <td>S2</td>\n",
       "      <td>40000</td>\n",
       "      <td>1</td>\n",
       "    </tr>\n",
       "    <tr>\n",
       "      <th>1</th>\n",
       "      <td>2</td>\n",
       "      <td>2022-10-02</td>\n",
       "      <td>S2</td>\n",
       "      <td>5000</td>\n",
       "      <td>1</td>\n",
       "    </tr>\n",
       "    <tr>\n",
       "      <th>2</th>\n",
       "      <td>2</td>\n",
       "      <td>2022-10-06</td>\n",
       "      <td>S1</td>\n",
       "      <td>40000</td>\n",
       "      <td>1</td>\n",
       "    </tr>\n",
       "    <tr>\n",
       "      <th>3</th>\n",
       "      <td>2</td>\n",
       "      <td>2022-10-08</td>\n",
       "      <td>S1</td>\n",
       "      <td>45000</td>\n",
       "      <td>2</td>\n",
       "    </tr>\n",
       "    <tr>\n",
       "      <th>4</th>\n",
       "      <td>2</td>\n",
       "      <td>2022-10-08</td>\n",
       "      <td>S2</td>\n",
       "      <td>5000</td>\n",
       "      <td>1</td>\n",
       "    </tr>\n",
       "  </tbody>\n",
       "</table>\n",
       "</div>"
      ],
      "text/plain": [
       "   User Id        Date Slot  Deposite Amount  Num Deposite\n",
       "0        2  2022-10-01   S2            40000             1\n",
       "1        2  2022-10-02   S2             5000             1\n",
       "2        2  2022-10-06   S1            40000             1\n",
       "3        2  2022-10-08   S1            45000             2\n",
       "4        2  2022-10-08   S2             5000             1"
      ]
     },
     "execution_count": 37,
     "metadata": {},
     "output_type": "execute_result"
    }
   ],
   "source": [
    "deposite_grouped.head()"
   ]
  },
  {
   "cell_type": "code",
   "execution_count": 38,
   "id": "c82a535a-04fd-4b11-b0a2-823a68ffc321",
   "metadata": {},
   "outputs": [],
   "source": [
    "withdraw_grouped = df_withdraw.groupby(['User Id','Date','Slot'])['Amount'].agg(['sum','count']).reset_index()"
   ]
  },
  {
   "cell_type": "code",
   "execution_count": 39,
   "id": "c9cbe4ca-51a5-441c-b0ed-0b5c1a5b1ee2",
   "metadata": {},
   "outputs": [],
   "source": [
    "withdraw_grouped.columns = ['User Id','Date','Slot','Withdrawal Amount','Num withdraw']"
   ]
  },
  {
   "cell_type": "code",
   "execution_count": 40,
   "id": "60f4f91d-87b0-49f4-b5ee-b9ddef316b4c",
   "metadata": {},
   "outputs": [
    {
     "data": {
      "text/html": [
       "<div>\n",
       "<style scoped>\n",
       "    .dataframe tbody tr th:only-of-type {\n",
       "        vertical-align: middle;\n",
       "    }\n",
       "\n",
       "    .dataframe tbody tr th {\n",
       "        vertical-align: top;\n",
       "    }\n",
       "\n",
       "    .dataframe thead th {\n",
       "        text-align: right;\n",
       "    }\n",
       "</style>\n",
       "<table border=\"1\" class=\"dataframe\">\n",
       "  <thead>\n",
       "    <tr style=\"text-align: right;\">\n",
       "      <th></th>\n",
       "      <th>User Id</th>\n",
       "      <th>Date</th>\n",
       "      <th>Slot</th>\n",
       "      <th>Withdrawal Amount</th>\n",
       "      <th>Num withdraw</th>\n",
       "    </tr>\n",
       "  </thead>\n",
       "  <tbody>\n",
       "    <tr>\n",
       "      <th>0</th>\n",
       "      <td>2</td>\n",
       "      <td>2022-10-01</td>\n",
       "      <td>S2</td>\n",
       "      <td>55000</td>\n",
       "      <td>1</td>\n",
       "    </tr>\n",
       "    <tr>\n",
       "      <th>1</th>\n",
       "      <td>2</td>\n",
       "      <td>2022-10-03</td>\n",
       "      <td>S1</td>\n",
       "      <td>117349</td>\n",
       "      <td>1</td>\n",
       "    </tr>\n",
       "    <tr>\n",
       "      <th>2</th>\n",
       "      <td>2</td>\n",
       "      <td>2022-10-04</td>\n",
       "      <td>S2</td>\n",
       "      <td>19000</td>\n",
       "      <td>1</td>\n",
       "    </tr>\n",
       "    <tr>\n",
       "      <th>3</th>\n",
       "      <td>2</td>\n",
       "      <td>2022-10-05</td>\n",
       "      <td>S1</td>\n",
       "      <td>36000</td>\n",
       "      <td>1</td>\n",
       "    </tr>\n",
       "    <tr>\n",
       "      <th>4</th>\n",
       "      <td>2</td>\n",
       "      <td>2022-10-08</td>\n",
       "      <td>S2</td>\n",
       "      <td>13000</td>\n",
       "      <td>1</td>\n",
       "    </tr>\n",
       "  </tbody>\n",
       "</table>\n",
       "</div>"
      ],
      "text/plain": [
       "   User Id        Date Slot  Withdrawal Amount  Num withdraw\n",
       "0        2  2022-10-01   S2              55000             1\n",
       "1        2  2022-10-03   S1             117349             1\n",
       "2        2  2022-10-04   S2              19000             1\n",
       "3        2  2022-10-05   S1              36000             1\n",
       "4        2  2022-10-08   S2              13000             1"
      ]
     },
     "execution_count": 40,
     "metadata": {},
     "output_type": "execute_result"
    }
   ],
   "source": [
    "withdraw_grouped.head()"
   ]
  },
  {
   "cell_type": "markdown",
   "id": "d62edcb8-c085-41f3-8e0b-25951da179e2",
   "metadata": {},
   "source": [
    "Merge All three datasets"
   ]
  },
  {
   "cell_type": "code",
   "execution_count": 41,
   "id": "4c69f387-5af1-40fc-94e9-578a50c6fac3",
   "metadata": {},
   "outputs": [],
   "source": [
    "merged_one = pd.merge(withdraw_grouped,deposite_grouped, on=['User Id','Date','Slot'], how='outer')"
   ]
  },
  {
   "cell_type": "code",
   "execution_count": 42,
   "id": "805c7f75-4b33-4232-b18f-aa565a374b11",
   "metadata": {},
   "outputs": [],
   "source": [
    "merged_data = pd.merge(merged_one, gameplayed_grouped, on=['User Id','Date','Slot'], how='outer')"
   ]
  },
  {
   "cell_type": "code",
   "execution_count": null,
   "id": "431a4493-618e-43d6-a1d0-64b0c750c599",
   "metadata": {},
   "outputs": [],
   "source": []
  },
  {
   "cell_type": "markdown",
   "id": "36c864b0-33a4-4318-b268-d61c38f31f68",
   "metadata": {},
   "source": [
    "Fill the null values with 0"
   ]
  },
  {
   "cell_type": "code",
   "execution_count": 43,
   "id": "47a35e6f-660c-407b-9574-bc442d516358",
   "metadata": {},
   "outputs": [],
   "source": [
    "merged_data.fillna(0, inplace=True)"
   ]
  },
  {
   "cell_type": "code",
   "execution_count": 44,
   "id": "f2cd8114-fc32-44e3-a22a-1af16af8d040",
   "metadata": {},
   "outputs": [
    {
     "data": {
      "text/html": [
       "<div>\n",
       "<style scoped>\n",
       "    .dataframe tbody tr th:only-of-type {\n",
       "        vertical-align: middle;\n",
       "    }\n",
       "\n",
       "    .dataframe tbody tr th {\n",
       "        vertical-align: top;\n",
       "    }\n",
       "\n",
       "    .dataframe thead th {\n",
       "        text-align: right;\n",
       "    }\n",
       "</style>\n",
       "<table border=\"1\" class=\"dataframe\">\n",
       "  <thead>\n",
       "    <tr style=\"text-align: right;\">\n",
       "      <th></th>\n",
       "      <th>User Id</th>\n",
       "      <th>Date</th>\n",
       "      <th>Slot</th>\n",
       "      <th>Withdrawal Amount</th>\n",
       "      <th>Num withdraw</th>\n",
       "      <th>Deposite Amount</th>\n",
       "      <th>Num Deposite</th>\n",
       "      <th>Games Played</th>\n",
       "    </tr>\n",
       "  </thead>\n",
       "  <tbody>\n",
       "    <tr>\n",
       "      <th>0</th>\n",
       "      <td>0</td>\n",
       "      <td>2022-10-04</td>\n",
       "      <td>S2</td>\n",
       "      <td>0.0</td>\n",
       "      <td>0.0</td>\n",
       "      <td>0.0</td>\n",
       "      <td>0.0</td>\n",
       "      <td>1.0</td>\n",
       "    </tr>\n",
       "    <tr>\n",
       "      <th>1</th>\n",
       "      <td>0</td>\n",
       "      <td>2022-10-05</td>\n",
       "      <td>S2</td>\n",
       "      <td>0.0</td>\n",
       "      <td>0.0</td>\n",
       "      <td>0.0</td>\n",
       "      <td>0.0</td>\n",
       "      <td>1.0</td>\n",
       "    </tr>\n",
       "    <tr>\n",
       "      <th>2</th>\n",
       "      <td>0</td>\n",
       "      <td>2022-10-06</td>\n",
       "      <td>S1</td>\n",
       "      <td>0.0</td>\n",
       "      <td>0.0</td>\n",
       "      <td>0.0</td>\n",
       "      <td>0.0</td>\n",
       "      <td>1.0</td>\n",
       "    </tr>\n",
       "    <tr>\n",
       "      <th>3</th>\n",
       "      <td>0</td>\n",
       "      <td>2022-10-10</td>\n",
       "      <td>S1</td>\n",
       "      <td>0.0</td>\n",
       "      <td>0.0</td>\n",
       "      <td>0.0</td>\n",
       "      <td>0.0</td>\n",
       "      <td>1.0</td>\n",
       "    </tr>\n",
       "    <tr>\n",
       "      <th>4</th>\n",
       "      <td>0</td>\n",
       "      <td>2022-10-10</td>\n",
       "      <td>S2</td>\n",
       "      <td>0.0</td>\n",
       "      <td>0.0</td>\n",
       "      <td>0.0</td>\n",
       "      <td>0.0</td>\n",
       "      <td>1.0</td>\n",
       "    </tr>\n",
       "  </tbody>\n",
       "</table>\n",
       "</div>"
      ],
      "text/plain": [
       "   User Id        Date Slot  Withdrawal Amount  Num withdraw  Deposite Amount  \\\n",
       "0        0  2022-10-04   S2                0.0           0.0              0.0   \n",
       "1        0  2022-10-05   S2                0.0           0.0              0.0   \n",
       "2        0  2022-10-06   S1                0.0           0.0              0.0   \n",
       "3        0  2022-10-10   S1                0.0           0.0              0.0   \n",
       "4        0  2022-10-10   S2                0.0           0.0              0.0   \n",
       "\n",
       "   Num Deposite  Games Played  \n",
       "0           0.0           1.0  \n",
       "1           0.0           1.0  \n",
       "2           0.0           1.0  \n",
       "3           0.0           1.0  \n",
       "4           0.0           1.0  "
      ]
     },
     "execution_count": 44,
     "metadata": {},
     "output_type": "execute_result"
    }
   ],
   "source": [
    "merged_data.head()"
   ]
  },
  {
   "cell_type": "code",
   "execution_count": 45,
   "id": "34f2f0ff-8e7f-4b0e-83ab-06e0fa3e8f7a",
   "metadata": {},
   "outputs": [],
   "source": [
    "merged_data['Loyalty_Point'] = (0.01 * merged_data['Deposite Amount'] + \n",
    "                                0.005 * merged_data['Withdrawal Amount'] + \n",
    "                                0.001 * (merged_data['Num Deposite'] - merged_data['Num withdraw']).clip(lower=0) +\n",
    "                                0.2 * merged_data['Games Played'])"
   ]
  },
  {
   "cell_type": "code",
   "execution_count": 46,
   "id": "951ae139-eb2c-43c7-9748-ddfc2a099cd7",
   "metadata": {},
   "outputs": [
    {
     "data": {
      "text/plain": [
       "0      0.2\n",
       "1      0.2\n",
       "2      0.2\n",
       "3      0.2\n",
       "4      0.2\n",
       "5      0.4\n",
       "6      0.2\n",
       "7      0.2\n",
       "8      0.4\n",
       "9    675.2\n",
       "Name: Loyalty_Point, dtype: float64"
      ]
     },
     "execution_count": 46,
     "metadata": {},
     "output_type": "execute_result"
    }
   ],
   "source": [
    "merged_data['Loyalty_Point'].head(10)"
   ]
  },
  {
   "cell_type": "markdown",
   "id": "c5505340-e378-4a1b-a583-c7f227844cfe",
   "metadata": {},
   "source": [
    "Group the playerwise loyalty points"
   ]
  },
  {
   "cell_type": "code",
   "execution_count": 47,
   "id": "b9d43616-5a38-4cfd-88ce-d9438e7b6f1c",
   "metadata": {},
   "outputs": [],
   "source": [
    "total_points = merged_data.groupby('User Id').agg({'Loyalty_Point':'sum', 'Games Played':'sum'}).reset_index()"
   ]
  },
  {
   "cell_type": "code",
   "execution_count": 48,
   "id": "1f35ca9a-3196-49f6-b061-88293f1691d2",
   "metadata": {},
   "outputs": [
    {
     "data": {
      "text/html": [
       "<div>\n",
       "<style scoped>\n",
       "    .dataframe tbody tr th:only-of-type {\n",
       "        vertical-align: middle;\n",
       "    }\n",
       "\n",
       "    .dataframe tbody tr th {\n",
       "        vertical-align: top;\n",
       "    }\n",
       "\n",
       "    .dataframe thead th {\n",
       "        text-align: right;\n",
       "    }\n",
       "</style>\n",
       "<table border=\"1\" class=\"dataframe\">\n",
       "  <thead>\n",
       "    <tr style=\"text-align: right;\">\n",
       "      <th></th>\n",
       "      <th>User Id</th>\n",
       "      <th>Loyalty_Point</th>\n",
       "      <th>Games Played</th>\n",
       "    </tr>\n",
       "  </thead>\n",
       "  <tbody>\n",
       "    <tr>\n",
       "      <th>0</th>\n",
       "      <td>0</td>\n",
       "      <td>1.400</td>\n",
       "      <td>7.0</td>\n",
       "    </tr>\n",
       "    <tr>\n",
       "      <th>1</th>\n",
       "      <td>1</td>\n",
       "      <td>0.400</td>\n",
       "      <td>2.0</td>\n",
       "    </tr>\n",
       "    <tr>\n",
       "      <th>2</th>\n",
       "      <td>2</td>\n",
       "      <td>4325.552</td>\n",
       "      <td>34.0</td>\n",
       "    </tr>\n",
       "    <tr>\n",
       "      <th>3</th>\n",
       "      <td>3</td>\n",
       "      <td>105.401</td>\n",
       "      <td>27.0</td>\n",
       "    </tr>\n",
       "    <tr>\n",
       "      <th>4</th>\n",
       "      <td>4</td>\n",
       "      <td>17.501</td>\n",
       "      <td>0.0</td>\n",
       "    </tr>\n",
       "    <tr>\n",
       "      <th>...</th>\n",
       "      <td>...</td>\n",
       "      <td>...</td>\n",
       "      <td>...</td>\n",
       "    </tr>\n",
       "    <tr>\n",
       "      <th>978</th>\n",
       "      <td>995</td>\n",
       "      <td>1.200</td>\n",
       "      <td>6.0</td>\n",
       "    </tr>\n",
       "    <tr>\n",
       "      <th>979</th>\n",
       "      <td>996</td>\n",
       "      <td>402.410</td>\n",
       "      <td>177.0</td>\n",
       "    </tr>\n",
       "    <tr>\n",
       "      <th>980</th>\n",
       "      <td>997</td>\n",
       "      <td>9.000</td>\n",
       "      <td>45.0</td>\n",
       "    </tr>\n",
       "    <tr>\n",
       "      <th>981</th>\n",
       "      <td>998</td>\n",
       "      <td>21.202</td>\n",
       "      <td>1.0</td>\n",
       "    </tr>\n",
       "    <tr>\n",
       "      <th>982</th>\n",
       "      <td>999</td>\n",
       "      <td>34.201</td>\n",
       "      <td>71.0</td>\n",
       "    </tr>\n",
       "  </tbody>\n",
       "</table>\n",
       "<p>983 rows × 3 columns</p>\n",
       "</div>"
      ],
      "text/plain": [
       "     User Id  Loyalty_Point  Games Played\n",
       "0          0          1.400           7.0\n",
       "1          1          0.400           2.0\n",
       "2          2       4325.552          34.0\n",
       "3          3        105.401          27.0\n",
       "4          4         17.501           0.0\n",
       "..       ...            ...           ...\n",
       "978      995          1.200           6.0\n",
       "979      996        402.410         177.0\n",
       "980      997          9.000          45.0\n",
       "981      998         21.202           1.0\n",
       "982      999         34.201          71.0\n",
       "\n",
       "[983 rows x 3 columns]"
      ]
     },
     "execution_count": 48,
     "metadata": {},
     "output_type": "execute_result"
    }
   ],
   "source": [
    "total_points"
   ]
  },
  {
   "cell_type": "markdown",
   "id": "ea3bce65-6c61-49b0-bb0f-9b9e2bc7e88e",
   "metadata": {},
   "source": [
    "Rank the players"
   ]
  },
  {
   "cell_type": "code",
   "execution_count": 49,
   "id": "9dbdd408-f94b-4b62-a46a-60b929dece19",
   "metadata": {},
   "outputs": [],
   "source": [
    "total_points['Rank'] = total_points.sort_values(by=['Loyalty_Point','Games Played'],ascending=[False, False]).reset_index(drop=True).index+1"
   ]
  },
  {
   "cell_type": "code",
   "execution_count": 50,
   "id": "3e7dfe61-bb50-49ac-927d-11d31b1c7ad9",
   "metadata": {},
   "outputs": [
    {
     "data": {
      "text/html": [
       "<div>\n",
       "<style scoped>\n",
       "    .dataframe tbody tr th:only-of-type {\n",
       "        vertical-align: middle;\n",
       "    }\n",
       "\n",
       "    .dataframe tbody tr th {\n",
       "        vertical-align: top;\n",
       "    }\n",
       "\n",
       "    .dataframe thead th {\n",
       "        text-align: right;\n",
       "    }\n",
       "</style>\n",
       "<table border=\"1\" class=\"dataframe\">\n",
       "  <thead>\n",
       "    <tr style=\"text-align: right;\">\n",
       "      <th></th>\n",
       "      <th>User Id</th>\n",
       "      <th>Loyalty_Point</th>\n",
       "      <th>Games Played</th>\n",
       "      <th>Rank</th>\n",
       "    </tr>\n",
       "  </thead>\n",
       "  <tbody>\n",
       "    <tr>\n",
       "      <th>0</th>\n",
       "      <td>0</td>\n",
       "      <td>1.400</td>\n",
       "      <td>7.0</td>\n",
       "      <td>1</td>\n",
       "    </tr>\n",
       "    <tr>\n",
       "      <th>1</th>\n",
       "      <td>1</td>\n",
       "      <td>0.400</td>\n",
       "      <td>2.0</td>\n",
       "      <td>2</td>\n",
       "    </tr>\n",
       "    <tr>\n",
       "      <th>2</th>\n",
       "      <td>2</td>\n",
       "      <td>4325.552</td>\n",
       "      <td>34.0</td>\n",
       "      <td>3</td>\n",
       "    </tr>\n",
       "    <tr>\n",
       "      <th>3</th>\n",
       "      <td>3</td>\n",
       "      <td>105.401</td>\n",
       "      <td>27.0</td>\n",
       "      <td>4</td>\n",
       "    </tr>\n",
       "    <tr>\n",
       "      <th>4</th>\n",
       "      <td>4</td>\n",
       "      <td>17.501</td>\n",
       "      <td>0.0</td>\n",
       "      <td>5</td>\n",
       "    </tr>\n",
       "  </tbody>\n",
       "</table>\n",
       "</div>"
      ],
      "text/plain": [
       "   User Id  Loyalty_Point  Games Played  Rank\n",
       "0        0          1.400           7.0     1\n",
       "1        1          0.400           2.0     2\n",
       "2        2       4325.552          34.0     3\n",
       "3        3        105.401          27.0     4\n",
       "4        4         17.501           0.0     5"
      ]
     },
     "execution_count": 50,
     "metadata": {},
     "output_type": "execute_result"
    }
   ],
   "source": [
    "total_points.head()"
   ]
  },
  {
   "cell_type": "markdown",
   "id": "ba4d80b5-7508-4985-8155-a4a9ee31c5f2",
   "metadata": {},
   "source": [
    "Calculating average deposit amount"
   ]
  },
  {
   "cell_type": "code",
   "execution_count": 51,
   "id": "c154d16d-9858-4a89-9da9-5c08315cc36e",
   "metadata": {},
   "outputs": [
    {
     "name": "stdout",
     "output_type": "stream",
     "text": [
      "average deposit amount :  5492.185399701801\n"
     ]
    }
   ],
   "source": [
    "avg_deposite_amount = df_deposite['Amount'].mean()\n",
    "print(\"average deposit amount : \",avg_deposite_amount)"
   ]
  },
  {
   "cell_type": "code",
   "execution_count": null,
   "id": "8b07184f-f7c0-4d35-b973-f9861be97767",
   "metadata": {},
   "outputs": [],
   "source": []
  },
  {
   "cell_type": "markdown",
   "id": "b5c448ac-c1d9-4f19-afc5-ffcd7e452235",
   "metadata": {},
   "source": [
    "Calculating average deposit amount per user in a month"
   ]
  },
  {
   "cell_type": "code",
   "execution_count": 52,
   "id": "ed94c525-7420-472c-9355-0703a02b1966",
   "metadata": {},
   "outputs": [
    {
     "data": {
      "text/html": [
       "<div>\n",
       "<style scoped>\n",
       "    .dataframe tbody tr th:only-of-type {\n",
       "        vertical-align: middle;\n",
       "    }\n",
       "\n",
       "    .dataframe tbody tr th {\n",
       "        vertical-align: top;\n",
       "    }\n",
       "\n",
       "    .dataframe thead th {\n",
       "        text-align: right;\n",
       "    }\n",
       "</style>\n",
       "<table border=\"1\" class=\"dataframe\">\n",
       "  <thead>\n",
       "    <tr style=\"text-align: right;\">\n",
       "      <th></th>\n",
       "      <th>User Id</th>\n",
       "      <th>Datetime</th>\n",
       "      <th>Amount</th>\n",
       "      <th>Hour</th>\n",
       "      <th>Slot</th>\n",
       "      <th>Date</th>\n",
       "    </tr>\n",
       "  </thead>\n",
       "  <tbody>\n",
       "    <tr>\n",
       "      <th>0</th>\n",
       "      <td>357</td>\n",
       "      <td>2022-10-01 00:03:00</td>\n",
       "      <td>2000</td>\n",
       "      <td>0.0</td>\n",
       "      <td>S1</td>\n",
       "      <td>2022-10-01</td>\n",
       "    </tr>\n",
       "    <tr>\n",
       "      <th>1</th>\n",
       "      <td>776</td>\n",
       "      <td>2022-10-01 00:03:00</td>\n",
       "      <td>2500</td>\n",
       "      <td>0.0</td>\n",
       "      <td>S1</td>\n",
       "      <td>2022-10-01</td>\n",
       "    </tr>\n",
       "    <tr>\n",
       "      <th>2</th>\n",
       "      <td>492</td>\n",
       "      <td>2022-10-01 00:06:00</td>\n",
       "      <td>5000</td>\n",
       "      <td>0.0</td>\n",
       "      <td>S1</td>\n",
       "      <td>2022-10-01</td>\n",
       "    </tr>\n",
       "    <tr>\n",
       "      <th>3</th>\n",
       "      <td>803</td>\n",
       "      <td>2022-10-01 00:07:00</td>\n",
       "      <td>5000</td>\n",
       "      <td>0.0</td>\n",
       "      <td>S1</td>\n",
       "      <td>2022-10-01</td>\n",
       "    </tr>\n",
       "    <tr>\n",
       "      <th>4</th>\n",
       "      <td>875</td>\n",
       "      <td>2022-10-01 00:09:00</td>\n",
       "      <td>1500</td>\n",
       "      <td>0.0</td>\n",
       "      <td>S1</td>\n",
       "      <td>2022-10-01</td>\n",
       "    </tr>\n",
       "  </tbody>\n",
       "</table>\n",
       "</div>"
      ],
      "text/plain": [
       "   User Id            Datetime  Amount  Hour Slot        Date\n",
       "0      357 2022-10-01 00:03:00    2000   0.0   S1  2022-10-01\n",
       "1      776 2022-10-01 00:03:00    2500   0.0   S1  2022-10-01\n",
       "2      492 2022-10-01 00:06:00    5000   0.0   S1  2022-10-01\n",
       "3      803 2022-10-01 00:07:00    5000   0.0   S1  2022-10-01\n",
       "4      875 2022-10-01 00:09:00    1500   0.0   S1  2022-10-01"
      ]
     },
     "execution_count": 52,
     "metadata": {},
     "output_type": "execute_result"
    }
   ],
   "source": [
    "oct_deposite = df_deposite[df_deposite['Datetime'].dt.month==10]\n",
    "oct_deposite.head()"
   ]
  },
  {
   "cell_type": "code",
   "execution_count": 53,
   "id": "430f7bfe-44d7-4318-ad8d-5d3e20ed749b",
   "metadata": {},
   "outputs": [],
   "source": [
    "monthly_deposite = oct_deposite.groupby(df_deposite['User Id'])['Amount'].sum()"
   ]
  },
  {
   "cell_type": "code",
   "execution_count": 54,
   "id": "44c6d02c-3467-4372-afc9-b3fcc4f69949",
   "metadata": {},
   "outputs": [
    {
     "data": {
      "text/plain": [
       "User Id\n",
       "2      225000\n",
       "3       10000\n",
       "4        1750\n",
       "5       20100\n",
       "6        9000\n",
       "        ...  \n",
       "992    119990\n",
       "994      1400\n",
       "996     36700\n",
       "998      2100\n",
       "999      2000\n",
       "Name: Amount, Length: 796, dtype: int64"
      ]
     },
     "execution_count": 54,
     "metadata": {},
     "output_type": "execute_result"
    }
   ],
   "source": [
    "monthly_deposite"
   ]
  },
  {
   "cell_type": "code",
   "execution_count": null,
   "id": "79705c3b-d4fe-447e-8d09-66be6a2a0868",
   "metadata": {},
   "outputs": [],
   "source": []
  },
  {
   "cell_type": "markdown",
   "id": "994e6229-7e3a-44f5-8d90-070436b21d80",
   "metadata": {},
   "source": [
    "Calculating average number of games played per user"
   ]
  },
  {
   "cell_type": "code",
   "execution_count": 55,
   "id": "d2105e20-d14f-4554-92cf-e72ac5a2ef93",
   "metadata": {},
   "outputs": [],
   "source": [
    "gameplayed_per_user = df_gameplayed.groupby(df_gameplayed['User Id'])['Games Played'].sum()"
   ]
  },
  {
   "cell_type": "code",
   "execution_count": 56,
   "id": "2a3d8be0-f1b7-497a-a667-5556980086fc",
   "metadata": {},
   "outputs": [
    {
     "data": {
      "text/plain": [
       "np.float64(355.267)"
      ]
     },
     "execution_count": 56,
     "metadata": {},
     "output_type": "execute_result"
    }
   ],
   "source": [
    "avg_gameplayed_per_user = gameplayed_per_user.mean()\n",
    "avg_gameplayed_per_user"
   ]
  },
  {
   "cell_type": "code",
   "execution_count": null,
   "id": "aa938686-3d13-4b14-96e7-6830f65d4aa7",
   "metadata": {},
   "outputs": [],
   "source": []
  },
  {
   "cell_type": "markdown",
   "id": "1320c868-a97f-49eb-bb8e-35179dcf22b4",
   "metadata": {},
   "source": [
    "Rank top 50 players"
   ]
  },
  {
   "cell_type": "code",
   "execution_count": 98,
   "id": "15f0991b-411c-49e8-b912-768c52dfbe4c",
   "metadata": {},
   "outputs": [],
   "source": [
    "top_50 = total_points[total_points['Rank']<=50].round(2).copy()"
   ]
  },
  {
   "cell_type": "code",
   "execution_count": 99,
   "id": "7236a5b0-b64d-4714-aa39-b1ee54d7a52c",
   "metadata": {},
   "outputs": [
    {
     "data": {
      "text/html": [
       "<div>\n",
       "<style scoped>\n",
       "    .dataframe tbody tr th:only-of-type {\n",
       "        vertical-align: middle;\n",
       "    }\n",
       "\n",
       "    .dataframe tbody tr th {\n",
       "        vertical-align: top;\n",
       "    }\n",
       "\n",
       "    .dataframe thead th {\n",
       "        text-align: right;\n",
       "    }\n",
       "</style>\n",
       "<table border=\"1\" class=\"dataframe\">\n",
       "  <thead>\n",
       "    <tr style=\"text-align: right;\">\n",
       "      <th></th>\n",
       "      <th>User Id</th>\n",
       "      <th>Loyalty_Point</th>\n",
       "      <th>Games Played</th>\n",
       "      <th>Rank</th>\n",
       "    </tr>\n",
       "  </thead>\n",
       "  <tbody>\n",
       "    <tr>\n",
       "      <th>0</th>\n",
       "      <td>0</td>\n",
       "      <td>1.40</td>\n",
       "      <td>7.0</td>\n",
       "      <td>1</td>\n",
       "    </tr>\n",
       "    <tr>\n",
       "      <th>1</th>\n",
       "      <td>1</td>\n",
       "      <td>0.40</td>\n",
       "      <td>2.0</td>\n",
       "      <td>2</td>\n",
       "    </tr>\n",
       "    <tr>\n",
       "      <th>2</th>\n",
       "      <td>2</td>\n",
       "      <td>4325.55</td>\n",
       "      <td>34.0</td>\n",
       "      <td>3</td>\n",
       "    </tr>\n",
       "    <tr>\n",
       "      <th>3</th>\n",
       "      <td>3</td>\n",
       "      <td>105.40</td>\n",
       "      <td>27.0</td>\n",
       "      <td>4</td>\n",
       "    </tr>\n",
       "    <tr>\n",
       "      <th>4</th>\n",
       "      <td>4</td>\n",
       "      <td>17.50</td>\n",
       "      <td>0.0</td>\n",
       "      <td>5</td>\n",
       "    </tr>\n",
       "    <tr>\n",
       "      <th>5</th>\n",
       "      <td>5</td>\n",
       "      <td>337.12</td>\n",
       "      <td>163.0</td>\n",
       "      <td>6</td>\n",
       "    </tr>\n",
       "    <tr>\n",
       "      <th>6</th>\n",
       "      <td>6</td>\n",
       "      <td>94.80</td>\n",
       "      <td>24.0</td>\n",
       "      <td>7</td>\n",
       "    </tr>\n",
       "    <tr>\n",
       "      <th>7</th>\n",
       "      <td>7</td>\n",
       "      <td>4.80</td>\n",
       "      <td>24.0</td>\n",
       "      <td>8</td>\n",
       "    </tr>\n",
       "    <tr>\n",
       "      <th>8</th>\n",
       "      <td>8</td>\n",
       "      <td>37.00</td>\n",
       "      <td>185.0</td>\n",
       "      <td>9</td>\n",
       "    </tr>\n",
       "    <tr>\n",
       "      <th>9</th>\n",
       "      <td>9</td>\n",
       "      <td>1600.07</td>\n",
       "      <td>1325.0</td>\n",
       "      <td>10</td>\n",
       "    </tr>\n",
       "    <tr>\n",
       "      <th>10</th>\n",
       "      <td>10</td>\n",
       "      <td>181.07</td>\n",
       "      <td>265.0</td>\n",
       "      <td>11</td>\n",
       "    </tr>\n",
       "    <tr>\n",
       "      <th>11</th>\n",
       "      <td>11</td>\n",
       "      <td>376.90</td>\n",
       "      <td>297.0</td>\n",
       "      <td>12</td>\n",
       "    </tr>\n",
       "    <tr>\n",
       "      <th>12</th>\n",
       "      <td>12</td>\n",
       "      <td>350.75</td>\n",
       "      <td>76.0</td>\n",
       "      <td>13</td>\n",
       "    </tr>\n",
       "    <tr>\n",
       "      <th>13</th>\n",
       "      <td>13</td>\n",
       "      <td>50.00</td>\n",
       "      <td>0.0</td>\n",
       "      <td>14</td>\n",
       "    </tr>\n",
       "    <tr>\n",
       "      <th>14</th>\n",
       "      <td>14</td>\n",
       "      <td>46.81</td>\n",
       "      <td>9.0</td>\n",
       "      <td>15</td>\n",
       "    </tr>\n",
       "    <tr>\n",
       "      <th>15</th>\n",
       "      <td>15</td>\n",
       "      <td>53.00</td>\n",
       "      <td>15.0</td>\n",
       "      <td>16</td>\n",
       "    </tr>\n",
       "    <tr>\n",
       "      <th>16</th>\n",
       "      <td>16</td>\n",
       "      <td>2449.57</td>\n",
       "      <td>815.0</td>\n",
       "      <td>17</td>\n",
       "    </tr>\n",
       "    <tr>\n",
       "      <th>17</th>\n",
       "      <td>17</td>\n",
       "      <td>123.81</td>\n",
       "      <td>94.0</td>\n",
       "      <td>18</td>\n",
       "    </tr>\n",
       "    <tr>\n",
       "      <th>18</th>\n",
       "      <td>18</td>\n",
       "      <td>54.60</td>\n",
       "      <td>3.0</td>\n",
       "      <td>19</td>\n",
       "    </tr>\n",
       "    <tr>\n",
       "      <th>19</th>\n",
       "      <td>19</td>\n",
       "      <td>34.40</td>\n",
       "      <td>22.0</td>\n",
       "      <td>20</td>\n",
       "    </tr>\n",
       "    <tr>\n",
       "      <th>20</th>\n",
       "      <td>20</td>\n",
       "      <td>50.20</td>\n",
       "      <td>1.0</td>\n",
       "      <td>21</td>\n",
       "    </tr>\n",
       "    <tr>\n",
       "      <th>21</th>\n",
       "      <td>21</td>\n",
       "      <td>6.40</td>\n",
       "      <td>32.0</td>\n",
       "      <td>22</td>\n",
       "    </tr>\n",
       "    <tr>\n",
       "      <th>22</th>\n",
       "      <td>22</td>\n",
       "      <td>10.40</td>\n",
       "      <td>2.0</td>\n",
       "      <td>23</td>\n",
       "    </tr>\n",
       "    <tr>\n",
       "      <th>23</th>\n",
       "      <td>23</td>\n",
       "      <td>287.50</td>\n",
       "      <td>81.0</td>\n",
       "      <td>24</td>\n",
       "    </tr>\n",
       "    <tr>\n",
       "      <th>24</th>\n",
       "      <td>24</td>\n",
       "      <td>263.21</td>\n",
       "      <td>91.0</td>\n",
       "      <td>25</td>\n",
       "    </tr>\n",
       "    <tr>\n",
       "      <th>25</th>\n",
       "      <td>25</td>\n",
       "      <td>167.50</td>\n",
       "      <td>0.0</td>\n",
       "      <td>26</td>\n",
       "    </tr>\n",
       "    <tr>\n",
       "      <th>26</th>\n",
       "      <td>26</td>\n",
       "      <td>28.00</td>\n",
       "      <td>0.0</td>\n",
       "      <td>27</td>\n",
       "    </tr>\n",
       "    <tr>\n",
       "      <th>27</th>\n",
       "      <td>27</td>\n",
       "      <td>1411.91</td>\n",
       "      <td>730.0</td>\n",
       "      <td>28</td>\n",
       "    </tr>\n",
       "    <tr>\n",
       "      <th>28</th>\n",
       "      <td>28</td>\n",
       "      <td>4463.02</td>\n",
       "      <td>15.0</td>\n",
       "      <td>29</td>\n",
       "    </tr>\n",
       "    <tr>\n",
       "      <th>29</th>\n",
       "      <td>29</td>\n",
       "      <td>41.00</td>\n",
       "      <td>5.0</td>\n",
       "      <td>30</td>\n",
       "    </tr>\n",
       "    <tr>\n",
       "      <th>30</th>\n",
       "      <td>30</td>\n",
       "      <td>3350.82</td>\n",
       "      <td>4.0</td>\n",
       "      <td>31</td>\n",
       "    </tr>\n",
       "    <tr>\n",
       "      <th>31</th>\n",
       "      <td>31</td>\n",
       "      <td>490.66</td>\n",
       "      <td>399.0</td>\n",
       "      <td>32</td>\n",
       "    </tr>\n",
       "    <tr>\n",
       "      <th>32</th>\n",
       "      <td>32</td>\n",
       "      <td>121.76</td>\n",
       "      <td>14.0</td>\n",
       "      <td>33</td>\n",
       "    </tr>\n",
       "    <tr>\n",
       "      <th>33</th>\n",
       "      <td>33</td>\n",
       "      <td>130.20</td>\n",
       "      <td>1.0</td>\n",
       "      <td>34</td>\n",
       "    </tr>\n",
       "    <tr>\n",
       "      <th>34</th>\n",
       "      <td>34</td>\n",
       "      <td>0.60</td>\n",
       "      <td>3.0</td>\n",
       "      <td>35</td>\n",
       "    </tr>\n",
       "    <tr>\n",
       "      <th>35</th>\n",
       "      <td>35</td>\n",
       "      <td>0.20</td>\n",
       "      <td>1.0</td>\n",
       "      <td>36</td>\n",
       "    </tr>\n",
       "    <tr>\n",
       "      <th>36</th>\n",
       "      <td>36</td>\n",
       "      <td>161.00</td>\n",
       "      <td>30.0</td>\n",
       "      <td>37</td>\n",
       "    </tr>\n",
       "    <tr>\n",
       "      <th>37</th>\n",
       "      <td>37</td>\n",
       "      <td>1.80</td>\n",
       "      <td>9.0</td>\n",
       "      <td>38</td>\n",
       "    </tr>\n",
       "    <tr>\n",
       "      <th>38</th>\n",
       "      <td>38</td>\n",
       "      <td>0.20</td>\n",
       "      <td>1.0</td>\n",
       "      <td>39</td>\n",
       "    </tr>\n",
       "    <tr>\n",
       "      <th>39</th>\n",
       "      <td>39</td>\n",
       "      <td>1442.50</td>\n",
       "      <td>1627.0</td>\n",
       "      <td>40</td>\n",
       "    </tr>\n",
       "    <tr>\n",
       "      <th>40</th>\n",
       "      <td>40</td>\n",
       "      <td>0.40</td>\n",
       "      <td>2.0</td>\n",
       "      <td>41</td>\n",
       "    </tr>\n",
       "    <tr>\n",
       "      <th>41</th>\n",
       "      <td>41</td>\n",
       "      <td>30.60</td>\n",
       "      <td>3.0</td>\n",
       "      <td>42</td>\n",
       "    </tr>\n",
       "    <tr>\n",
       "      <th>42</th>\n",
       "      <td>42</td>\n",
       "      <td>227.40</td>\n",
       "      <td>162.0</td>\n",
       "      <td>43</td>\n",
       "    </tr>\n",
       "    <tr>\n",
       "      <th>43</th>\n",
       "      <td>43</td>\n",
       "      <td>85.40</td>\n",
       "      <td>427.0</td>\n",
       "      <td>44</td>\n",
       "    </tr>\n",
       "    <tr>\n",
       "      <th>44</th>\n",
       "      <td>44</td>\n",
       "      <td>139.24</td>\n",
       "      <td>4.0</td>\n",
       "      <td>45</td>\n",
       "    </tr>\n",
       "    <tr>\n",
       "      <th>45</th>\n",
       "      <td>45</td>\n",
       "      <td>305.22</td>\n",
       "      <td>76.0</td>\n",
       "      <td>46</td>\n",
       "    </tr>\n",
       "    <tr>\n",
       "      <th>46</th>\n",
       "      <td>46</td>\n",
       "      <td>493.00</td>\n",
       "      <td>15.0</td>\n",
       "      <td>47</td>\n",
       "    </tr>\n",
       "    <tr>\n",
       "      <th>47</th>\n",
       "      <td>47</td>\n",
       "      <td>920.06</td>\n",
       "      <td>148.0</td>\n",
       "      <td>48</td>\n",
       "    </tr>\n",
       "    <tr>\n",
       "      <th>48</th>\n",
       "      <td>48</td>\n",
       "      <td>0.80</td>\n",
       "      <td>4.0</td>\n",
       "      <td>49</td>\n",
       "    </tr>\n",
       "    <tr>\n",
       "      <th>49</th>\n",
       "      <td>49</td>\n",
       "      <td>30.20</td>\n",
       "      <td>1.0</td>\n",
       "      <td>50</td>\n",
       "    </tr>\n",
       "  </tbody>\n",
       "</table>\n",
       "</div>"
      ],
      "text/plain": [
       "    User Id  Loyalty_Point  Games Played  Rank\n",
       "0         0           1.40           7.0     1\n",
       "1         1           0.40           2.0     2\n",
       "2         2        4325.55          34.0     3\n",
       "3         3         105.40          27.0     4\n",
       "4         4          17.50           0.0     5\n",
       "5         5         337.12         163.0     6\n",
       "6         6          94.80          24.0     7\n",
       "7         7           4.80          24.0     8\n",
       "8         8          37.00         185.0     9\n",
       "9         9        1600.07        1325.0    10\n",
       "10       10         181.07         265.0    11\n",
       "11       11         376.90         297.0    12\n",
       "12       12         350.75          76.0    13\n",
       "13       13          50.00           0.0    14\n",
       "14       14          46.81           9.0    15\n",
       "15       15          53.00          15.0    16\n",
       "16       16        2449.57         815.0    17\n",
       "17       17         123.81          94.0    18\n",
       "18       18          54.60           3.0    19\n",
       "19       19          34.40          22.0    20\n",
       "20       20          50.20           1.0    21\n",
       "21       21           6.40          32.0    22\n",
       "22       22          10.40           2.0    23\n",
       "23       23         287.50          81.0    24\n",
       "24       24         263.21          91.0    25\n",
       "25       25         167.50           0.0    26\n",
       "26       26          28.00           0.0    27\n",
       "27       27        1411.91         730.0    28\n",
       "28       28        4463.02          15.0    29\n",
       "29       29          41.00           5.0    30\n",
       "30       30        3350.82           4.0    31\n",
       "31       31         490.66         399.0    32\n",
       "32       32         121.76          14.0    33\n",
       "33       33         130.20           1.0    34\n",
       "34       34           0.60           3.0    35\n",
       "35       35           0.20           1.0    36\n",
       "36       36         161.00          30.0    37\n",
       "37       37           1.80           9.0    38\n",
       "38       38           0.20           1.0    39\n",
       "39       39        1442.50        1627.0    40\n",
       "40       40           0.40           2.0    41\n",
       "41       41          30.60           3.0    42\n",
       "42       42         227.40         162.0    43\n",
       "43       43          85.40         427.0    44\n",
       "44       44         139.24           4.0    45\n",
       "45       45         305.22          76.0    46\n",
       "46       46         493.00          15.0    47\n",
       "47       47         920.06         148.0    48\n",
       "48       48           0.80           4.0    49\n",
       "49       49          30.20           1.0    50"
      ]
     },
     "execution_count": 99,
     "metadata": {},
     "output_type": "execute_result"
    }
   ],
   "source": [
    "top_50"
   ]
  },
  {
   "cell_type": "markdown",
   "id": "776e93cd-61b0-4ac5-9d3c-095d911c2776",
   "metadata": {},
   "source": [
    "Distribute 50000 to top 50 players"
   ]
  },
  {
   "cell_type": "code",
   "execution_count": 100,
   "id": "d389ba83-1864-47bb-9f6e-b0b44f8b113f",
   "metadata": {},
   "outputs": [
    {
     "data": {
      "text/plain": [
       "np.float64(24906.15)"
      ]
     },
     "execution_count": 100,
     "metadata": {},
     "output_type": "execute_result"
    }
   ],
   "source": [
    "total_top50_loyalty_points = top_50['Loyalty_Point'].sum().round(2)\n",
    "total_top50_loyalty_points"
   ]
  },
  {
   "cell_type": "code",
   "execution_count": 103,
   "id": "8ff84f12-2155-4c24-bfc9-afa5c16c36e7",
   "metadata": {},
   "outputs": [],
   "source": [
    "top_50['bonus in rupees'] = (top_50['Loyalty_Point']/total_top50_loyalty_points)*50000"
   ]
  },
  {
   "cell_type": "code",
   "execution_count": 104,
   "id": "40679b53-e36b-4fb3-b5db-3bc2c79c24b1",
   "metadata": {},
   "outputs": [
    {
     "data": {
      "text/html": [
       "<div>\n",
       "<style scoped>\n",
       "    .dataframe tbody tr th:only-of-type {\n",
       "        vertical-align: middle;\n",
       "    }\n",
       "\n",
       "    .dataframe tbody tr th {\n",
       "        vertical-align: top;\n",
       "    }\n",
       "\n",
       "    .dataframe thead th {\n",
       "        text-align: right;\n",
       "    }\n",
       "</style>\n",
       "<table border=\"1\" class=\"dataframe\">\n",
       "  <thead>\n",
       "    <tr style=\"text-align: right;\">\n",
       "      <th></th>\n",
       "      <th>User Id</th>\n",
       "      <th>Loyalty_Point</th>\n",
       "      <th>Games Played</th>\n",
       "      <th>Rank</th>\n",
       "      <th>bonus in rupees</th>\n",
       "    </tr>\n",
       "  </thead>\n",
       "  <tbody>\n",
       "    <tr>\n",
       "      <th>0</th>\n",
       "      <td>0</td>\n",
       "      <td>1.40</td>\n",
       "      <td>7.0</td>\n",
       "      <td>1</td>\n",
       "      <td>2.810551</td>\n",
       "    </tr>\n",
       "    <tr>\n",
       "      <th>1</th>\n",
       "      <td>1</td>\n",
       "      <td>0.40</td>\n",
       "      <td>2.0</td>\n",
       "      <td>2</td>\n",
       "      <td>0.803015</td>\n",
       "    </tr>\n",
       "    <tr>\n",
       "      <th>2</th>\n",
       "      <td>2</td>\n",
       "      <td>4325.55</td>\n",
       "      <td>34.0</td>\n",
       "      <td>3</td>\n",
       "      <td>8683.698605</td>\n",
       "    </tr>\n",
       "    <tr>\n",
       "      <th>3</th>\n",
       "      <td>3</td>\n",
       "      <td>105.40</td>\n",
       "      <td>27.0</td>\n",
       "      <td>4</td>\n",
       "      <td>211.594325</td>\n",
       "    </tr>\n",
       "    <tr>\n",
       "      <th>4</th>\n",
       "      <td>4</td>\n",
       "      <td>17.50</td>\n",
       "      <td>0.0</td>\n",
       "      <td>5</td>\n",
       "      <td>35.131885</td>\n",
       "    </tr>\n",
       "  </tbody>\n",
       "</table>\n",
       "</div>"
      ],
      "text/plain": [
       "   User Id  Loyalty_Point  Games Played  Rank  bonus in rupees\n",
       "0        0           1.40           7.0     1         2.810551\n",
       "1        1           0.40           2.0     2         0.803015\n",
       "2        2        4325.55          34.0     3      8683.698605\n",
       "3        3         105.40          27.0     4       211.594325\n",
       "4        4          17.50           0.0     5        35.131885"
      ]
     },
     "execution_count": 104,
     "metadata": {},
     "output_type": "execute_result"
    }
   ],
   "source": [
    "top_50.head()"
   ]
  },
  {
   "cell_type": "code",
   "execution_count": 105,
   "id": "c0201671-38db-442f-a619-17c4ca8e25d0",
   "metadata": {},
   "outputs": [],
   "source": [
    "top_50_sort = top_50.sort_values(by='bonus in rupees',ascending=False).round(2)"
   ]
  },
  {
   "cell_type": "code",
   "execution_count": 106,
   "id": "33da4fcc-f062-4a8a-8ce9-05f91d27d9c4",
   "metadata": {},
   "outputs": [],
   "source": [
    "top_50_sort.to_csv('Top_50_Bonus_LeaderBoard.csv', index=False)"
   ]
  },
  {
   "cell_type": "code",
   "execution_count": null,
   "id": "5dd4f2ca-5e54-447c-b482-7d4179cc556d",
   "metadata": {},
   "outputs": [],
   "source": []
  },
  {
   "cell_type": "markdown",
   "id": "80414fc4-b9ea-411e-8649-7383124ee23a",
   "metadata": {},
   "source": [
    "The loyalty formula is slight unfair like someone active only once but with a large deposit still gets high points.A flat formula gives same reward to everyone regardless of pattern."
   ]
  },
  {
   "cell_type": "markdown",
   "id": "2c4916ce-d34e-411e-85fc-0f8f986696aa",
   "metadata": {},
   "source": [
    "Suggestion : Reward more who  have higher deposite or add bonus who are active in most of the days"
   ]
  },
  {
   "cell_type": "markdown",
   "id": "5e4c9f1b-6ecc-4cbc-8c63-787a5341cfdc",
   "metadata": {},
   "source": [
    "Loyalty Points =(0.01 × deposit) + (0.001 × max(#deposits - #withdrawals, 0)) + (0.2 × games_played) + (10 if active_days ≥ 10 else 0) - (0.002 × withdrawal)"
   ]
  },
  {
   "cell_type": "code",
   "execution_count": null,
   "id": "c800650b-eb1f-4392-8d09-0996c3cddb1f",
   "metadata": {},
   "outputs": [],
   "source": []
  }
 ],
 "metadata": {
  "kernelspec": {
   "display_name": "tfkernel",
   "language": "python",
   "name": "tfkernel"
  },
  "language_info": {
   "codemirror_mode": {
    "name": "ipython",
    "version": 3
   },
   "file_extension": ".py",
   "mimetype": "text/x-python",
   "name": "python",
   "nbconvert_exporter": "python",
   "pygments_lexer": "ipython3",
   "version": "3.12.2"
  }
 },
 "nbformat": 4,
 "nbformat_minor": 5
}
